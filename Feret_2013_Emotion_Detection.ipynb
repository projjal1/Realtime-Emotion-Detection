{
  "nbformat": 4,
  "nbformat_minor": 0,
  "metadata": {
    "colab": {
      "name": "Feret-2013-Emotion-Detection.ipynb",
      "provenance": [],
      "toc_visible": true,
      "mount_file_id": "1Ia3RzK0qVqnfWImLSeVTv85duiLBys4y",
      "authorship_tag": "ABX9TyMAHl05TGIxmzRw575NOhKq",
      "include_colab_link": true
    },
    "kernelspec": {
      "name": "python3",
      "display_name": "Python 3"
    },
    "accelerator": "GPU"
  },
  "cells": [
    {
      "cell_type": "markdown",
      "metadata": {
        "id": "view-in-github",
        "colab_type": "text"
      },
      "source": [
        "<a href=\"https://colab.research.google.com/github/projjal1/Realtime-Emotion-Detection/blob/master/Feret_2013_Emotion_Detection.ipynb\" target=\"_parent\"><img src=\"https://colab.research.google.com/assets/colab-badge.svg\" alt=\"Open In Colab\"/></a>"
      ]
    },
    {
      "cell_type": "markdown",
      "metadata": {
        "id": "KOhHXOd-xuD6",
        "colab_type": "text"
      },
      "source": [
        "Using Kaggle Emotion Detection Dataset"
      ]
    },
    {
      "cell_type": "code",
      "metadata": {
        "id": "tCex49mAY7QD",
        "colab_type": "code",
        "colab": {
          "base_uri": "https://localhost:8080/",
          "height": 50
        },
        "outputId": "a67f35e5-ceab-4286-dc23-efe5b5ba3dc3"
      },
      "source": [
        "!unzip drive/'My Drive'/'Colab Notebooks'/fer2013.zip"
      ],
      "execution_count": null,
      "outputs": [
        {
          "output_type": "stream",
          "text": [
            "Archive:  drive/My Drive/Colab Notebooks/fer2013.zip\n",
            "  inflating: fer2013.csv             \n"
          ],
          "name": "stdout"
        }
      ]
    },
    {
      "cell_type": "code",
      "metadata": {
        "id": "YP8xmUtPjEam",
        "colab_type": "code",
        "colab": {
          "base_uri": "https://localhost:8080/",
          "height": 726
        },
        "outputId": "fef00749-6534-4440-b1e9-bfd933068a4d"
      },
      "source": [
        "!pip install tensorflow-gpu"
      ],
      "execution_count": null,
      "outputs": [
        {
          "output_type": "stream",
          "text": [
            "Collecting tensorflow-gpu\n",
            "\u001b[?25l  Downloading https://files.pythonhosted.org/packages/0f/11/763f55d3d15efd778ef24453f126e6c33635680e5a2bb346da3fab5997cb/tensorflow_gpu-2.3.0-cp36-cp36m-manylinux2010_x86_64.whl (320.4MB)\n",
            "\u001b[K     |████████████████████████████████| 320.4MB 43kB/s \n",
            "\u001b[?25hRequirement already satisfied: tensorboard<3,>=2.3.0 in /usr/local/lib/python3.6/dist-packages (from tensorflow-gpu) (2.3.0)\n",
            "Requirement already satisfied: h5py<2.11.0,>=2.10.0 in /usr/local/lib/python3.6/dist-packages (from tensorflow-gpu) (2.10.0)\n",
            "Requirement already satisfied: scipy==1.4.1 in /usr/local/lib/python3.6/dist-packages (from tensorflow-gpu) (1.4.1)\n",
            "Requirement already satisfied: gast==0.3.3 in /usr/local/lib/python3.6/dist-packages (from tensorflow-gpu) (0.3.3)\n",
            "Requirement already satisfied: astunparse==1.6.3 in /usr/local/lib/python3.6/dist-packages (from tensorflow-gpu) (1.6.3)\n",
            "Requirement already satisfied: tensorflow-estimator<2.4.0,>=2.3.0 in /usr/local/lib/python3.6/dist-packages (from tensorflow-gpu) (2.3.0)\n",
            "Requirement already satisfied: absl-py>=0.7.0 in /usr/local/lib/python3.6/dist-packages (from tensorflow-gpu) (0.8.1)\n",
            "Requirement already satisfied: termcolor>=1.1.0 in /usr/local/lib/python3.6/dist-packages (from tensorflow-gpu) (1.1.0)\n",
            "Requirement already satisfied: six>=1.12.0 in /usr/local/lib/python3.6/dist-packages (from tensorflow-gpu) (1.15.0)\n",
            "Requirement already satisfied: protobuf>=3.9.2 in /usr/local/lib/python3.6/dist-packages (from tensorflow-gpu) (3.12.4)\n",
            "Requirement already satisfied: keras-preprocessing<1.2,>=1.1.1 in /usr/local/lib/python3.6/dist-packages (from tensorflow-gpu) (1.1.2)\n",
            "Requirement already satisfied: numpy<1.19.0,>=1.16.0 in /usr/local/lib/python3.6/dist-packages (from tensorflow-gpu) (1.18.5)\n",
            "Requirement already satisfied: opt-einsum>=2.3.2 in /usr/local/lib/python3.6/dist-packages (from tensorflow-gpu) (3.3.0)\n",
            "Requirement already satisfied: grpcio>=1.8.6 in /usr/local/lib/python3.6/dist-packages (from tensorflow-gpu) (1.31.0)\n",
            "Requirement already satisfied: wheel>=0.26 in /usr/local/lib/python3.6/dist-packages (from tensorflow-gpu) (0.35.1)\n",
            "Requirement already satisfied: wrapt>=1.11.1 in /usr/local/lib/python3.6/dist-packages (from tensorflow-gpu) (1.12.1)\n",
            "Requirement already satisfied: google-pasta>=0.1.8 in /usr/local/lib/python3.6/dist-packages (from tensorflow-gpu) (0.2.0)\n",
            "Requirement already satisfied: setuptools>=41.0.0 in /usr/local/lib/python3.6/dist-packages (from tensorboard<3,>=2.3.0->tensorflow-gpu) (49.6.0)\n",
            "Requirement already satisfied: tensorboard-plugin-wit>=1.6.0 in /usr/local/lib/python3.6/dist-packages (from tensorboard<3,>=2.3.0->tensorflow-gpu) (1.7.0)\n",
            "Requirement already satisfied: requests<3,>=2.21.0 in /usr/local/lib/python3.6/dist-packages (from tensorboard<3,>=2.3.0->tensorflow-gpu) (2.23.0)\n",
            "Requirement already satisfied: werkzeug>=0.11.15 in /usr/local/lib/python3.6/dist-packages (from tensorboard<3,>=2.3.0->tensorflow-gpu) (1.0.1)\n",
            "Requirement already satisfied: google-auth-oauthlib<0.5,>=0.4.1 in /usr/local/lib/python3.6/dist-packages (from tensorboard<3,>=2.3.0->tensorflow-gpu) (0.4.1)\n",
            "Requirement already satisfied: markdown>=2.6.8 in /usr/local/lib/python3.6/dist-packages (from tensorboard<3,>=2.3.0->tensorflow-gpu) (3.2.2)\n",
            "Requirement already satisfied: google-auth<2,>=1.6.3 in /usr/local/lib/python3.6/dist-packages (from tensorboard<3,>=2.3.0->tensorflow-gpu) (1.17.2)\n",
            "Requirement already satisfied: idna<3,>=2.5 in /usr/local/lib/python3.6/dist-packages (from requests<3,>=2.21.0->tensorboard<3,>=2.3.0->tensorflow-gpu) (2.10)\n",
            "Requirement already satisfied: urllib3!=1.25.0,!=1.25.1,<1.26,>=1.21.1 in /usr/local/lib/python3.6/dist-packages (from requests<3,>=2.21.0->tensorboard<3,>=2.3.0->tensorflow-gpu) (1.24.3)\n",
            "Requirement already satisfied: certifi>=2017.4.17 in /usr/local/lib/python3.6/dist-packages (from requests<3,>=2.21.0->tensorboard<3,>=2.3.0->tensorflow-gpu) (2020.6.20)\n",
            "Requirement already satisfied: chardet<4,>=3.0.2 in /usr/local/lib/python3.6/dist-packages (from requests<3,>=2.21.0->tensorboard<3,>=2.3.0->tensorflow-gpu) (3.0.4)\n",
            "Requirement already satisfied: requests-oauthlib>=0.7.0 in /usr/local/lib/python3.6/dist-packages (from google-auth-oauthlib<0.5,>=0.4.1->tensorboard<3,>=2.3.0->tensorflow-gpu) (1.3.0)\n",
            "Requirement already satisfied: importlib-metadata; python_version < \"3.8\" in /usr/local/lib/python3.6/dist-packages (from markdown>=2.6.8->tensorboard<3,>=2.3.0->tensorflow-gpu) (1.7.0)\n",
            "Requirement already satisfied: pyasn1-modules>=0.2.1 in /usr/local/lib/python3.6/dist-packages (from google-auth<2,>=1.6.3->tensorboard<3,>=2.3.0->tensorflow-gpu) (0.2.8)\n",
            "Requirement already satisfied: cachetools<5.0,>=2.0.0 in /usr/local/lib/python3.6/dist-packages (from google-auth<2,>=1.6.3->tensorboard<3,>=2.3.0->tensorflow-gpu) (4.1.1)\n",
            "Requirement already satisfied: rsa<5,>=3.1.4; python_version >= \"3\" in /usr/local/lib/python3.6/dist-packages (from google-auth<2,>=1.6.3->tensorboard<3,>=2.3.0->tensorflow-gpu) (4.6)\n",
            "Requirement already satisfied: oauthlib>=3.0.0 in /usr/local/lib/python3.6/dist-packages (from requests-oauthlib>=0.7.0->google-auth-oauthlib<0.5,>=0.4.1->tensorboard<3,>=2.3.0->tensorflow-gpu) (3.1.0)\n",
            "Requirement already satisfied: zipp>=0.5 in /usr/local/lib/python3.6/dist-packages (from importlib-metadata; python_version < \"3.8\"->markdown>=2.6.8->tensorboard<3,>=2.3.0->tensorflow-gpu) (3.1.0)\n",
            "Requirement already satisfied: pyasn1<0.5.0,>=0.4.6 in /usr/local/lib/python3.6/dist-packages (from pyasn1-modules>=0.2.1->google-auth<2,>=1.6.3->tensorboard<3,>=2.3.0->tensorflow-gpu) (0.4.8)\n",
            "Installing collected packages: tensorflow-gpu\n",
            "Successfully installed tensorflow-gpu-2.3.0\n"
          ],
          "name": "stdout"
        }
      ]
    },
    {
      "cell_type": "markdown",
      "metadata": {
        "id": "jZ9B2yPGxzVK",
        "colab_type": "text"
      },
      "source": [
        "Importing all modules"
      ]
    },
    {
      "cell_type": "code",
      "metadata": {
        "id": "wY053lYcj13G",
        "colab_type": "code",
        "colab": {}
      },
      "source": [
        "import tensorflow as tf\n",
        "import numpy as np\n",
        "import pandas as pd\n",
        "import cv2 \n",
        "from tensorflow.keras.layers import Conv2D,BatchNormalization,Activation,AveragePooling2D,Dropout,GlobalAveragePooling2D,SeparableConv2D,MaxPooling2D\n",
        "from tensorflow.keras.regularizers import l2\n",
        "from tensorflow.keras.models import Sequential"
      ],
      "execution_count": null,
      "outputs": []
    },
    {
      "cell_type": "code",
      "metadata": {
        "id": "1PI2wucTj4tN",
        "colab_type": "code",
        "colab": {}
      },
      "source": [
        "#file path name\n",
        "path_name='fer2013.csv'"
      ],
      "execution_count": null,
      "outputs": []
    },
    {
      "cell_type": "markdown",
      "metadata": {
        "id": "uY2B04Nxx1G6",
        "colab_type": "text"
      },
      "source": [
        "Loading the dataset from the CSV file"
      ]
    },
    {
      "cell_type": "code",
      "metadata": {
        "id": "Fwyxt5zDj70b",
        "colab_type": "code",
        "colab": {}
      },
      "source": [
        "#Load the data \n",
        "def _load_fer2013():\n",
        "    data = pd.read_csv(path_name)\n",
        "    pixels = data['pixels'].tolist()\n",
        "    width, height = 48, 48\n",
        "    faces = []\n",
        "    for pixel_sequence in pixels:\n",
        "        face = [int(pixel) for pixel in pixel_sequence.split(' ')]\n",
        "        face = np.asarray(face).reshape(width, height)\n",
        "        #Set image size to (64,64)\n",
        "        face = cv2.resize(face.astype('uint8'), (64,64))\n",
        "        faces.append(face.astype('float32'))\n",
        "    faces = np.asarray(faces)\n",
        "    faces = np.expand_dims(faces, -1)\n",
        "    emotions = pd.get_dummies(data['emotion']).values\n",
        "    return faces, emotions\n",
        "\n",
        "#Loading the data from module\n",
        "faces,emotion=_load_fer2013()"
      ],
      "execution_count": null,
      "outputs": []
    },
    {
      "cell_type": "markdown",
      "metadata": {
        "id": "3Cs_Lzlnx49S",
        "colab_type": "text"
      },
      "source": [
        "Labels or outcomes of this training"
      ]
    },
    {
      "cell_type": "code",
      "metadata": {
        "id": "34gxBbPIkDMk",
        "colab_type": "code",
        "colab": {}
      },
      "source": [
        "labels={'angry': 0, 'disgust': 1, 'fear': 2, 'happy': 3, 'sad': 4, 'surprise': 5, 'neutral': 6}"
      ],
      "execution_count": null,
      "outputs": []
    },
    {
      "cell_type": "markdown",
      "metadata": {
        "id": "VttSaUOCx7up",
        "colab_type": "text"
      },
      "source": [
        "Normalizing dataset of images"
      ]
    },
    {
      "cell_type": "code",
      "metadata": {
        "id": "Ohuw1KuDkGlG",
        "colab_type": "code",
        "colab": {}
      },
      "source": [
        "#Preprocess the image-data  \n",
        "faces=faces.astype('float32')\n",
        "faces=faces/255"
      ],
      "execution_count": null,
      "outputs": []
    },
    {
      "cell_type": "code",
      "metadata": {
        "id": "aT8KMIDHkJVt",
        "colab_type": "code",
        "colab": {
          "base_uri": "https://localhost:8080/",
          "height": 840
        },
        "outputId": "12f1a4e2-5099-43d6-d07e-d613fb9c235c"
      },
      "source": [
        "faces[1]"
      ],
      "execution_count": null,
      "outputs": [
        {
          "output_type": "execute_result",
          "data": {
            "text/plain": [
              "array([[[0.5921569 ],\n",
              "        [0.5882353 ],\n",
              "        [0.58431375],\n",
              "        ...,\n",
              "        [0.53333336],\n",
              "        [0.5176471 ],\n",
              "        [0.47058824]],\n",
              "\n",
              "       [[0.5921569 ],\n",
              "        [0.5882353 ],\n",
              "        [0.58431375],\n",
              "        ...,\n",
              "        [0.5254902 ],\n",
              "        [0.5372549 ],\n",
              "        [0.5137255 ]],\n",
              "\n",
              "       [[0.5921569 ],\n",
              "        [0.5882353 ],\n",
              "        [0.5882353 ],\n",
              "        ...,\n",
              "        [0.5019608 ],\n",
              "        [0.53333336],\n",
              "        [0.54901963]],\n",
              "\n",
              "       ...,\n",
              "\n",
              "       [[0.7372549 ],\n",
              "        [0.7372549 ],\n",
              "        [0.7058824 ],\n",
              "        ...,\n",
              "        [0.72156864],\n",
              "        [0.72156864],\n",
              "        [0.73333335]],\n",
              "\n",
              "       [[0.73333335],\n",
              "        [0.7294118 ],\n",
              "        [0.7372549 ],\n",
              "        ...,\n",
              "        [0.7254902 ],\n",
              "        [0.72156864],\n",
              "        [0.7294118 ]],\n",
              "\n",
              "       [[0.7294118 ],\n",
              "        [0.7254902 ],\n",
              "        [0.72156864],\n",
              "        ...,\n",
              "        [0.73333335],\n",
              "        [0.7176471 ],\n",
              "        [0.72156864]]], dtype=float32)"
            ]
          },
          "metadata": {
            "tags": []
          },
          "execution_count": 7
        }
      ]
    },
    {
      "cell_type": "markdown",
      "metadata": {
        "id": "kXnbXSuzx-Za",
        "colab_type": "text"
      },
      "source": [
        "Shapes of dataset of images and labels"
      ]
    },
    {
      "cell_type": "code",
      "metadata": {
        "id": "o-yqKtt1kM3k",
        "colab_type": "code",
        "colab": {
          "base_uri": "https://localhost:8080/",
          "height": 34
        },
        "outputId": "600c7ebc-2a5e-4449-98cd-10d90fd67f8a"
      },
      "source": [
        "print(\"Shape of image data: \",faces.shape)"
      ],
      "execution_count": null,
      "outputs": [
        {
          "output_type": "stream",
          "text": [
            "Shape of image data:  (35887, 64, 64, 1)\n"
          ],
          "name": "stdout"
        }
      ]
    },
    {
      "cell_type": "code",
      "metadata": {
        "id": "l8Ig0ekkkPrc",
        "colab_type": "code",
        "colab": {
          "base_uri": "https://localhost:8080/",
          "height": 34
        },
        "outputId": "29218fab-cf49-477c-b510-1daa61980579"
      },
      "source": [
        "print(\"Shape of label data: \",emotion.shape)"
      ],
      "execution_count": null,
      "outputs": [
        {
          "output_type": "stream",
          "text": [
            "Shape of label data:  (35887, 7)\n"
          ],
          "name": "stdout"
        }
      ]
    },
    {
      "cell_type": "markdown",
      "metadata": {
        "id": "_SWoBl4uyCJy",
        "colab_type": "text"
      },
      "source": [
        "Split the data to 70% of training and 30% of validation"
      ]
    },
    {
      "cell_type": "code",
      "metadata": {
        "id": "bgi0lnBAkPif",
        "colab_type": "code",
        "colab": {}
      },
      "source": [
        "#Split the data\n",
        "def split_data(x, y, validation_split=.2):\n",
        "    num_samples = len(x)\n",
        "    num_train_samples = int((1 - validation_split)*num_samples)\n",
        "    train_x = x[:num_train_samples]\n",
        "    train_y = y[:num_train_samples]\n",
        "    val_x = x[num_train_samples:]\n",
        "    val_y = y[num_train_samples:]\n",
        "    train_data = (train_x, train_y)\n",
        "    val_data = (val_x, val_y)\n",
        "    return train_data, val_data"
      ],
      "execution_count": null,
      "outputs": []
    },
    {
      "cell_type": "code",
      "metadata": {
        "id": "Frd_P1SQkSvk",
        "colab_type": "code",
        "colab": {}
      },
      "source": [
        "train_data, val_data = split_data(faces, emotion, 0.3)"
      ],
      "execution_count": null,
      "outputs": []
    },
    {
      "cell_type": "code",
      "metadata": {
        "id": "8BuVDbIFkVU0",
        "colab_type": "code",
        "colab": {}
      },
      "source": [
        "train_faces, train_emotions = train_data"
      ],
      "execution_count": null,
      "outputs": []
    },
    {
      "cell_type": "markdown",
      "metadata": {
        "id": "wB2XiTDOyJAr",
        "colab_type": "text"
      },
      "source": [
        "Shape of images after splitting"
      ]
    },
    {
      "cell_type": "code",
      "metadata": {
        "id": "eQXQt0MwkXFU",
        "colab_type": "code",
        "colab": {
          "base_uri": "https://localhost:8080/",
          "height": 34
        },
        "outputId": "1619262a-3648-420e-a677-5a878fd32a95"
      },
      "source": [
        "print(train_faces.shape)"
      ],
      "execution_count": null,
      "outputs": [
        {
          "output_type": "stream",
          "text": [
            "(25120, 64, 64, 1)\n"
          ],
          "name": "stdout"
        }
      ]
    },
    {
      "cell_type": "code",
      "metadata": {
        "id": "EC8Ff9TjkYBb",
        "colab_type": "code",
        "colab": {}
      },
      "source": [
        "from tensorflow.keras.preprocessing.image import ImageDataGenerator"
      ],
      "execution_count": null,
      "outputs": []
    },
    {
      "cell_type": "markdown",
      "metadata": {
        "id": "CQdTUyU5yM0K",
        "colab_type": "text"
      },
      "source": [
        "Applying all transformations to generate more traning sets"
      ]
    },
    {
      "cell_type": "code",
      "metadata": {
        "id": "dDtcmGkQkZ2s",
        "colab_type": "code",
        "colab": {}
      },
      "source": [
        "data_generator = ImageDataGenerator(\n",
        "                        featurewise_center=False,\n",
        "                        featurewise_std_normalization=False,\n",
        "                        rotation_range=10,\n",
        "                        width_shift_range=0.1,\n",
        "                        height_shift_range=0.1,\n",
        "                        zoom_range=.1,\n",
        "                        horizontal_flip=True)"
      ],
      "execution_count": null,
      "outputs": []
    },
    {
      "cell_type": "code",
      "metadata": {
        "id": "D3XUwXftkb08",
        "colab_type": "code",
        "colab": {}
      },
      "source": [
        "batch_size = 32\n",
        "fit_data=data_generator.flow(train_faces, train_emotions,batch_size)"
      ],
      "execution_count": null,
      "outputs": []
    },
    {
      "cell_type": "code",
      "metadata": {
        "id": "FE5T7NV3ncjO",
        "colab_type": "code",
        "colab": {}
      },
      "source": [
        "from tensorflow.keras import Input"
      ],
      "execution_count": null,
      "outputs": []
    },
    {
      "cell_type": "code",
      "metadata": {
        "id": "lqYJqCd-n2M9",
        "colab_type": "code",
        "colab": {}
      },
      "source": [
        "from tensorflow.keras import layers"
      ],
      "execution_count": null,
      "outputs": []
    },
    {
      "cell_type": "code",
      "metadata": {
        "id": "9cz86yoin8Eq",
        "colab_type": "code",
        "colab": {}
      },
      "source": [
        "from tensorflow.keras import models"
      ],
      "execution_count": null,
      "outputs": []
    },
    {
      "cell_type": "markdown",
      "metadata": {
        "id": "KPlxPigKyy4p",
        "colab_type": "text"
      },
      "source": [
        "A simple CNN model for the training"
      ]
    },
    {
      "cell_type": "code",
      "metadata": {
        "id": "7ySp3fZQkfuU",
        "colab_type": "code",
        "colab": {}
      },
      "source": [
        "model=models.Sequential()\n",
        "model.add(layers.Conv2D(filters=16, kernel_size=(2, 2), padding=\"same\", activation=\"relu\", input_shape=(64,64,1)))\n",
        "model.add(layers.MaxPooling2D(pool_size=(2, 2), padding='same'))\n",
        "\n",
        "model.add(layers.Conv2D(filters=32, kernel_size=(3, 3), padding=\"same\", activation=\"relu\"))\n",
        "model.add(layers.MaxPooling2D(pool_size=(2, 2), padding='same'))\n",
        "\n",
        "model.add(layers.Conv2D(filters=64, kernel_size=(4, 4), padding=\"same\", activation=\"relu\"))\n",
        "model.add(layers.MaxPooling2D(pool_size=(2, 2), padding='same'))\n",
        "\n",
        "model.add(layers.Conv2D(filters=128, kernel_size=(5, 5), padding=\"same\", activation=\"relu\"))\n",
        "model.add(layers.MaxPooling2D(pool_size=(2, 2), padding='same'))\n",
        "\n",
        "model.add(layers.Flatten())\n",
        "\n",
        "model.add(layers.Dense(1024, activation=\"relu\"))\n",
        "\n",
        "model.add(layers.Dense(7, activation=\"softmax\"))"
      ],
      "execution_count": null,
      "outputs": []
    },
    {
      "cell_type": "markdown",
      "metadata": {
        "id": "mVat9_p5y2qi",
        "colab_type": "text"
      },
      "source": [
        "Summary of the model"
      ]
    },
    {
      "cell_type": "code",
      "metadata": {
        "id": "Xey3LM-Sk26p",
        "colab_type": "code",
        "colab": {
          "base_uri": "https://localhost:8080/",
          "height": 529
        },
        "outputId": "29230545-8e64-43b3-debd-472988729b8c"
      },
      "source": [
        "model.summary()"
      ],
      "execution_count": null,
      "outputs": [
        {
          "output_type": "stream",
          "text": [
            "Model: \"sequential_5\"\n",
            "_________________________________________________________________\n",
            "Layer (type)                 Output Shape              Param #   \n",
            "=================================================================\n",
            "conv2d_15 (Conv2D)           (None, 64, 64, 16)        80        \n",
            "_________________________________________________________________\n",
            "max_pooling2d_14 (MaxPooling (None, 32, 32, 16)        0         \n",
            "_________________________________________________________________\n",
            "conv2d_16 (Conv2D)           (None, 32, 32, 32)        4640      \n",
            "_________________________________________________________________\n",
            "max_pooling2d_15 (MaxPooling (None, 16, 16, 32)        0         \n",
            "_________________________________________________________________\n",
            "conv2d_17 (Conv2D)           (None, 16, 16, 64)        32832     \n",
            "_________________________________________________________________\n",
            "max_pooling2d_16 (MaxPooling (None, 8, 8, 64)          0         \n",
            "_________________________________________________________________\n",
            "conv2d_18 (Conv2D)           (None, 8, 8, 128)         204928    \n",
            "_________________________________________________________________\n",
            "max_pooling2d_17 (MaxPooling (None, 4, 4, 128)         0         \n",
            "_________________________________________________________________\n",
            "flatten_4 (Flatten)          (None, 2048)              0         \n",
            "_________________________________________________________________\n",
            "dense_8 (Dense)              (None, 1024)              2098176   \n",
            "_________________________________________________________________\n",
            "dense_9 (Dense)              (None, 7)                 7175      \n",
            "=================================================================\n",
            "Total params: 2,347,831\n",
            "Trainable params: 2,347,831\n",
            "Non-trainable params: 0\n",
            "_________________________________________________________________\n"
          ],
          "name": "stdout"
        }
      ]
    },
    {
      "cell_type": "markdown",
      "metadata": {
        "id": "ZfZoe3nCy5HS",
        "colab_type": "text"
      },
      "source": [
        "Compiling with Adam as optimizer and categorical CrossEntropy as loss function"
      ]
    },
    {
      "cell_type": "code",
      "metadata": {
        "id": "6fkE3tO5k5hG",
        "colab_type": "code",
        "colab": {}
      },
      "source": [
        "model.compile(optimizer='adam', loss='categorical_crossentropy', metrics=['accuracy'])"
      ],
      "execution_count": null,
      "outputs": []
    },
    {
      "cell_type": "code",
      "metadata": {
        "id": "Un-WxZask8DE",
        "colab_type": "code",
        "colab": {}
      },
      "source": [
        "history=model.fit_generator(fit_data,steps_per_epoch=train_faces.shape[0]//batch_size,epochs=100,validation_data=val_data)"
      ],
      "execution_count": null,
      "outputs": []
    },
    {
      "cell_type": "markdown",
      "metadata": {
        "id": "yVD_CPZUzCni",
        "colab_type": "text"
      },
      "source": [
        "Generating random sets from the datset to get validation accuracy"
      ]
    },
    {
      "cell_type": "code",
      "metadata": {
        "id": "31SNM1ljW2FB",
        "colab_type": "code",
        "colab": {
          "base_uri": "https://localhost:8080/",
          "height": 50
        },
        "outputId": "3a0b8e76-69f1-4415-e846-fbf1e1204152"
      },
      "source": [
        "from random import randint\n",
        "\n",
        "correct=0\n",
        "\n",
        "for each in range(1200):\n",
        "  r=randint(0,faces.shape[0])\n",
        "  predict_data=np.expand_dims(faces[r],0)\n",
        "  pred=np.argmax(model.predict(predict_data))\n",
        "  actual=np.argmax(emotion[r])\n",
        "  if pred==actual:\n",
        "    correct+=1\n",
        "\n",
        "print('Correctly predicted : ',correct/1200*100,' %')\n",
        "print('Incorrectly predicted : ',(1200-correct)/1200*100,' %')"
      ],
      "execution_count": null,
      "outputs": [
        {
          "output_type": "stream",
          "text": [
            "Correctly predicted :  78.66666666666666  %\n",
            "Incorrectly predicted :  21.333333333333336  %\n"
          ],
          "name": "stdout"
        }
      ]
    },
    {
      "cell_type": "markdown",
      "metadata": {
        "id": "WnbORQPlzIm6",
        "colab_type": "text"
      },
      "source": [
        "Saving the model "
      ]
    },
    {
      "cell_type": "code",
      "metadata": {
        "id": "TrxEqH-uqcef",
        "colab_type": "code",
        "colab": {}
      },
      "source": [
        "model.save('emotion.h5')\n",
        "model.save('emotion.hdf5')"
      ],
      "execution_count": null,
      "outputs": []
    },
    {
      "cell_type": "code",
      "metadata": {
        "id": "9znLyOv4sZ8w",
        "colab_type": "code",
        "colab": {
          "base_uri": "https://localhost:8080/",
          "height": 154
        },
        "outputId": "b4a342ce-86a5-44b9-fe85-f70f98fd7543"
      },
      "source": [
        "model.save('my_model')"
      ],
      "execution_count": null,
      "outputs": [
        {
          "output_type": "stream",
          "text": [
            "WARNING:tensorflow:From /usr/local/lib/python3.6/dist-packages/tensorflow/python/training/tracking/tracking.py:111: Model.state_updates (from tensorflow.python.keras.engine.training) is deprecated and will be removed in a future version.\n",
            "Instructions for updating:\n",
            "This property should not be used in TensorFlow 2.0, as updates are applied automatically.\n",
            "WARNING:tensorflow:From /usr/local/lib/python3.6/dist-packages/tensorflow/python/training/tracking/tracking.py:111: Layer.updates (from tensorflow.python.keras.engine.base_layer) is deprecated and will be removed in a future version.\n",
            "Instructions for updating:\n",
            "This property should not be used in TensorFlow 2.0, as updates are applied automatically.\n",
            "INFO:tensorflow:Assets written to: my_model/assets\n"
          ],
          "name": "stdout"
        }
      ]
    },
    {
      "cell_type": "code",
      "metadata": {
        "id": "ZJBBJ6D5uFvY",
        "colab_type": "code",
        "colab": {}
      },
      "source": [
        "model.save_weights('weights')"
      ],
      "execution_count": null,
      "outputs": []
    },
    {
      "cell_type": "code",
      "metadata": {
        "id": "NTECEv-otgVf",
        "colab_type": "code",
        "colab": {
          "base_uri": "https://localhost:8080/",
          "height": 118
        },
        "outputId": "6df8cc3d-fe37-4977-e678-ce9f11e94675"
      },
      "source": [
        "!zip -r model.zip my_model"
      ],
      "execution_count": null,
      "outputs": [
        {
          "output_type": "stream",
          "text": [
            "updating: my_model/ (stored 0%)\n",
            "  adding: my_model/saved_model.pb (deflated 90%)\n",
            "  adding: my_model/assets/ (stored 0%)\n",
            "  adding: my_model/variables/ (stored 0%)\n",
            "  adding: my_model/variables/variables.index (deflated 67%)\n",
            "  adding: my_model/variables/variables.data-00000-of-00001 (deflated 41%)\n"
          ],
          "name": "stdout"
        }
      ]
    },
    {
      "cell_type": "markdown",
      "metadata": {
        "id": "4X3WVpFxzLMS",
        "colab_type": "text"
      },
      "source": [
        "Loading the model with weights"
      ]
    },
    {
      "cell_type": "code",
      "metadata": {
        "id": "rGparTdXu_Iw",
        "colab_type": "code",
        "colab": {}
      },
      "source": [
        "model_new=tf.keras.models.load_model('emotion.h5')"
      ],
      "execution_count": null,
      "outputs": []
    },
    {
      "cell_type": "code",
      "metadata": {
        "id": "h6AvaspZvG7v",
        "colab_type": "code",
        "colab": {
          "base_uri": "https://localhost:8080/",
          "height": 50
        },
        "outputId": "f65d974b-cbf2-4b68-d68e-2f9009caea05"
      },
      "source": [
        "from random import randint\n",
        "\n",
        "correct=0\n",
        "\n",
        "for each in range(1200):\n",
        "  r=randint(0,faces.shape[0])\n",
        "  predict_data=np.expand_dims(faces[r],0)\n",
        "  pred=np.argmax(model_new.predict(predict_data))\n",
        "  actual=np.argmax(emotion[r])\n",
        "  if pred==actual:\n",
        "    correct+=1\n",
        "\n",
        "print('Correctly predicted : ',correct/1200*100,' %')\n",
        "print('Incorrectly predicted : ',(1200-correct)/1200*100,' %')"
      ],
      "execution_count": null,
      "outputs": [
        {
          "output_type": "stream",
          "text": [
            "Correctly predicted :  77.0  %\n",
            "Incorrectly predicted :  23.0  %\n"
          ],
          "name": "stdout"
        }
      ]
    },
    {
      "cell_type": "code",
      "metadata": {
        "id": "dJ0hmkZEwblg",
        "colab_type": "code",
        "colab": {
          "base_uri": "https://localhost:8080/",
          "height": 35
        },
        "outputId": "031e52ec-b447-4c7d-efd3-c7475dc19a63"
      },
      "source": [
        "tf.__version__"
      ],
      "execution_count": null,
      "outputs": [
        {
          "output_type": "execute_result",
          "data": {
            "application/vnd.google.colaboratory.intrinsic+json": {
              "type": "string"
            },
            "text/plain": [
              "'2.3.0'"
            ]
          },
          "metadata": {
            "tags": []
          },
          "execution_count": 83
        }
      ]
    }
  ]
}